{
 "cells": [
  {
   "cell_type": "code",
   "execution_count": 1,
   "id": "4f667857",
   "metadata": {},
   "outputs": [
    {
     "name": "stdout",
     "output_type": "stream",
     "text": [
      "Collecting moto==4.1.12\n",
      "  Using cached moto-4.1.12-py2.py3-none-any.whl.metadata (11 kB)\n",
      "Collecting boto3>=1.9.201 (from moto==4.1.12)\n",
      "  Downloading boto3-1.37.38-py3-none-any.whl.metadata (6.7 kB)\n",
      "Collecting botocore>=1.12.201 (from moto==4.1.12)\n",
      "  Downloading botocore-1.37.38-py3-none-any.whl.metadata (5.7 kB)\n",
      "Collecting cryptography>=3.3.1 (from moto==4.1.12)\n",
      "  Downloading cryptography-45.0.5-cp37-abi3-win_amd64.whl.metadata (5.7 kB)\n",
      "Collecting requests>=2.5 (from moto==4.1.12)\n",
      "  Using cached requests-2.32.4-py3-none-any.whl.metadata (4.9 kB)\n",
      "Collecting xmltodict (from moto==4.1.12)\n",
      "  Using cached xmltodict-0.14.2-py2.py3-none-any.whl.metadata (8.0 kB)\n",
      "Collecting werkzeug!=2.2.0,!=2.2.1,>=0.5 (from moto==4.1.12)\n",
      "  Downloading werkzeug-3.0.6-py3-none-any.whl.metadata (3.7 kB)\n",
      "Requirement already satisfied: python-dateutil<3.0.0,>=2.1 in c:\\users\\eapch\\.virtualenvs\\userhandler-h7gbpva6\\lib\\site-packages (from moto==4.1.12) (2.9.0.post0)\n",
      "Collecting responses>=0.13.0 (from moto==4.1.12)\n",
      "  Using cached responses-0.25.7-py3-none-any.whl.metadata (47 kB)\n",
      "Collecting Jinja2>=2.10.1 (from moto==4.1.12)\n",
      "  Using cached jinja2-3.1.6-py3-none-any.whl.metadata (2.9 kB)\n",
      "Collecting jmespath<2.0.0,>=0.7.1 (from boto3>=1.9.201->moto==4.1.12)\n",
      "  Using cached jmespath-1.0.1-py3-none-any.whl.metadata (7.6 kB)\n",
      "Collecting s3transfer<0.12.0,>=0.11.0 (from boto3>=1.9.201->moto==4.1.12)\n",
      "  Downloading s3transfer-0.11.5-py3-none-any.whl.metadata (1.7 kB)\n",
      "Collecting urllib3<1.27,>=1.25.4 (from botocore>=1.12.201->moto==4.1.12)\n",
      "  Downloading urllib3-1.26.20-py2.py3-none-any.whl.metadata (50 kB)\n",
      "Collecting cffi>=1.14 (from cryptography>=3.3.1->moto==4.1.12)\n",
      "  Downloading cffi-1.17.1-cp38-cp38-win_amd64.whl.metadata (1.6 kB)\n",
      "Collecting MarkupSafe>=2.0 (from Jinja2>=2.10.1->moto==4.1.12)\n",
      "  Downloading MarkupSafe-2.1.5-cp38-cp38-win_amd64.whl.metadata (3.1 kB)\n",
      "Requirement already satisfied: six>=1.5 in c:\\users\\eapch\\.virtualenvs\\userhandler-h7gbpva6\\lib\\site-packages (from python-dateutil<3.0.0,>=2.1->moto==4.1.12) (1.17.0)\n",
      "Collecting charset_normalizer<4,>=2 (from requests>=2.5->moto==4.1.12)\n",
      "  Downloading charset_normalizer-3.4.2-cp38-cp38-win_amd64.whl.metadata (36 kB)\n",
      "Collecting idna<4,>=2.5 (from requests>=2.5->moto==4.1.12)\n",
      "  Using cached idna-3.10-py3-none-any.whl.metadata (10 kB)\n",
      "Collecting certifi>=2017.4.17 (from requests>=2.5->moto==4.1.12)\n",
      "  Using cached certifi-2025.6.15-py3-none-any.whl.metadata (2.4 kB)\n",
      "Collecting pyyaml (from responses>=0.13.0->moto==4.1.12)\n",
      "  Downloading PyYAML-6.0.2-cp38-cp38-win_amd64.whl.metadata (2.1 kB)\n",
      "Collecting pycparser (from cffi>=1.14->cryptography>=3.3.1->moto==4.1.12)\n",
      "  Using cached pycparser-2.22-py3-none-any.whl.metadata (943 bytes)\n",
      "Using cached moto-4.1.12-py2.py3-none-any.whl (3.0 MB)\n",
      "Downloading boto3-1.37.38-py3-none-any.whl (139 kB)\n",
      "Downloading botocore-1.37.38-py3-none-any.whl (13.5 MB)\n",
      "   ---------------------------------------- 0.0/13.5 MB ? eta -:--:--\n",
      "   -------- ------------------------------- 2.9/13.5 MB 14.0 MB/s eta 0:00:01\n",
      "   ----------------- ---------------------- 5.8/13.5 MB 13.6 MB/s eta 0:00:01\n",
      "   -------------------- ------------------- 7.1/13.5 MB 12.8 MB/s eta 0:00:01\n",
      "   --------------------------- ------------ 9.4/13.5 MB 10.9 MB/s eta 0:00:01\n",
      "   -------------------------------------- - 12.8/13.5 MB 10.5 MB/s eta 0:00:01\n",
      "   ---------------------------------------- 13.5/13.5 MB 9.7 MB/s eta 0:00:00\n",
      "Downloading cryptography-45.0.5-cp37-abi3-win_amd64.whl (3.4 MB)\n",
      "   ---------------------------------------- 0.0/3.4 MB ? eta -:--:--\n",
      "   ------------------------------------- -- 3.1/3.4 MB 16.8 MB/s eta 0:00:01\n",
      "   ---------------------------------------- 3.4/3.4 MB 14.3 MB/s eta 0:00:00\n",
      "Downloading jinja2-3.1.6-py3-none-any.whl (134 kB)\n",
      "Using cached requests-2.32.4-py3-none-any.whl (64 kB)\n",
      "Using cached responses-0.25.7-py3-none-any.whl (34 kB)\n",
      "Downloading werkzeug-3.0.6-py3-none-any.whl (227 kB)\n",
      "Using cached xmltodict-0.14.2-py2.py3-none-any.whl (10.0 kB)\n",
      "Using cached certifi-2025.6.15-py3-none-any.whl (157 kB)\n",
      "Downloading cffi-1.17.1-cp38-cp38-win_amd64.whl (181 kB)\n",
      "Downloading charset_normalizer-3.4.2-cp38-cp38-win_amd64.whl (105 kB)\n",
      "Using cached idna-3.10-py3-none-any.whl (70 kB)\n",
      "Using cached jmespath-1.0.1-py3-none-any.whl (20 kB)\n",
      "Downloading MarkupSafe-2.1.5-cp38-cp38-win_amd64.whl (17 kB)\n",
      "Downloading s3transfer-0.11.5-py3-none-any.whl (84 kB)\n",
      "Downloading urllib3-1.26.20-py2.py3-none-any.whl (144 kB)\n",
      "Downloading PyYAML-6.0.2-cp38-cp38-win_amd64.whl (162 kB)\n",
      "Using cached pycparser-2.22-py3-none-any.whl (117 kB)\n",
      "Installing collected packages: xmltodict, urllib3, pyyaml, pycparser, MarkupSafe, jmespath, idna, charset_normalizer, certifi, werkzeug, requests, Jinja2, cffi, botocore, s3transfer, responses, cryptography, boto3, moto\n",
      "Successfully installed Jinja2-3.1.6 MarkupSafe-2.1.5 boto3-1.37.38 botocore-1.37.38 certifi-2025.6.15 cffi-1.17.1 charset_normalizer-3.4.2 cryptography-45.0.5 idna-3.10 jmespath-1.0.1 moto-4.1.12 pycparser-2.22 pyyaml-6.0.2 requests-2.32.4 responses-0.25.7 s3transfer-0.11.5 urllib3-1.26.20 werkzeug-3.0.6 xmltodict-0.14.2\n"
     ]
    },
    {
     "name": "stderr",
     "output_type": "stream",
     "text": [
      "\n",
      "[notice] A new release of pip is available: 24.3.1 -> 25.0.1\n",
      "[notice] To update, run: python.exe -m pip install --upgrade pip\n"
     ]
    }
   ],
   "source": [
    "!pip install moto==4.1.12"
   ]
  },
  {
   "cell_type": "code",
   "execution_count": 2,
   "id": "e674638e",
   "metadata": {},
   "outputs": [
    {
     "name": "stdout",
     "output_type": "stream",
     "text": [
      "Name: moto\n",
      "Version: 4.1.12\n",
      "Summary: \n",
      "Home-page: https://github.com/getmoto/moto\n",
      "Author: Steve Pulec\n",
      "Author-email: \"spulec@gmail.com\"\n",
      "License: Apache License 2.0\n",
      "Location: c:\\users\\eapch\\.virtualenvs\\userhandler-h7gbpva6\\lib\\site-packages\n",
      "Requires: boto3, botocore, cryptography, Jinja2, python-dateutil, requests, responses, werkzeug, xmltodict\n",
      "Required-by: \n"
     ]
    }
   ],
   "source": [
    "!pip show moto"
   ]
  },
  {
   "cell_type": "code",
   "execution_count": 4,
   "id": "d12cc95f",
   "metadata": {},
   "outputs": [
    {
     "name": "stdout",
     "output_type": "stream",
     "text": [
      "Name: boto3\n",
      "Version: 1.37.38\n",
      "Summary: The AWS SDK for Python\n",
      "Home-page: https://github.com/boto/boto3\n",
      "Author: Amazon Web Services\n",
      "Author-email: \n",
      "License: Apache License 2.0\n",
      "Location: c:\\users\\eapch\\.virtualenvs\\userhandler-h7gbpva6\\lib\\site-packages\n",
      "Requires: botocore, jmespath, s3transfer\n",
      "Required-by: moto\n"
     ]
    }
   ],
   "source": [
    "!pip show boto3"
   ]
  }
 ],
 "metadata": {
  "kernelspec": {
   "display_name": ".venv",
   "language": "python",
   "name": "python3"
  },
  "language_info": {
   "codemirror_mode": {
    "name": "ipython",
    "version": 3
   },
   "file_extension": ".py",
   "mimetype": "text/x-python",
   "name": "python",
   "nbconvert_exporter": "python",
   "pygments_lexer": "ipython3",
   "version": "3.14.0"
  }
 },
 "nbformat": 4,
 "nbformat_minor": 5
}
